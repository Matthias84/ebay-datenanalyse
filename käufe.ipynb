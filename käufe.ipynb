{
 "cells": [
  {
   "cell_type": "code",
   "execution_count": null,
   "metadata": {},
   "outputs": [],
   "source": [
    "import pandas as pd\n",
    "from matplotlib.pyplot import pie, axis, show\n",
    "\n",
    "df_offers = pd.read_csv(\"kaeufe.csv\", encoding=\"Windows-1252\")\n",
    "df_offers = df_offers.replace(r'\\r','', regex=True) #Zeilenumbrüche entfernen, aber im Header bleiben die erhalten!\n",
    "# Zeitreihen erkennen\n",
    "df_offers[\"Transaction Date\"] = pd.to_datetime(df_offers[\"Transaction Date\"])\n",
    "df_offers[\"Listing\\rStart Date\"] = pd.to_datetime(df_offers[\"Listing\\rStart Date\"])\n",
    "df_offers[\"Listing End\\rDate\"] = pd.to_datetime(df_offers[\"Listing End\\rDate\"])\n",
    "# Reihen typisieren\n",
    "df_offers[\"Total\\rPrice\"] = df_offers[\"Total\\rPrice\"].apply(lambda x: float(x.replace(\",\", \".\")))\n",
    "df_offers\n",
    "df_offers[\"Transaction Date\"].min()"
   ]
  },
  {
   "cell_type": "code",
   "execution_count": null,
   "metadata": {},
   "outputs": [],
   "source": [
    "# Kategorien analysieren\n",
    "df_offers['Kategorie1'] = df_offers[\"Leaf\\rCategory\\rName\"].apply(lambda x: x.split(':')[0])\n",
    "df_cats = df_offers.groupby('Kategorie1').count()\n",
    "df_cats.sort_values('Item ID',ascending=False).plot.barh(title='Kategorien gekaufter Waren', figsize=(4,6), legend = False)"
   ]
  },
  {
   "cell_type": "code",
   "execution_count": null,
   "metadata": {},
   "outputs": [],
   "source": [
    "#Ausgaben\n",
    "def getPriceCat(x):\n",
    "    if x < 10.0:\n",
    "        return 'bis 10'\n",
    "    elif x < 20.0:\n",
    "        return 'bis 20'\n",
    "    elif x < 50.0:\n",
    "        return 'bis 50'\n",
    "    elif x < 100.0:\n",
    "        return 'bis 100'\n",
    "    else: 'über 100'\n",
    "    \n",
    "\n",
    "df_offers['pricecat'] = df_offers['Total\\rPrice'].map(lambda x: getPriceCat(x))\n",
    "df_offers.groupby('pricecat').count().sort_values('pricecat',ascending=False).plot.pie('Item ID',title='Preis gekaufter Waren', figsize=(4,4), autopct='%1.1f%%', legend = False)"
   ]
  },
  {
   "cell_type": "code",
   "execution_count": null,
   "metadata": {},
   "outputs": [],
   "source": [
    "#Zeit\n",
    "df_time = df_offers\n",
    "df_time.index = df_time['Transaction Date']\n",
    "df_offers['Item ID'].resample('M').count().plot(title='Käufe nach Monat')"
   ]
  },
  {
   "cell_type": "code",
   "execution_count": null,
   "metadata": {
    "scrolled": true
   },
   "outputs": [],
   "source": [
    "df_time['Total\\rPrice'].resample('M').sum().plot(title='Kaufvolumen nach Monat')"
   ]
  },
  {
   "cell_type": "code",
   "execution_count": null,
   "metadata": {},
   "outputs": [],
   "source": [
    "#Zeit Einkäufe\n",
    "def getHourCat(x):\n",
    "    if (x < 5) or (x>23):\n",
    "        return 'nachts'\n",
    "    elif (x >= 5) and (x<12):\n",
    "        return 'vormittags'\n",
    "    elif (x >= 12) and (x<15):\n",
    "        return 'mittags'\n",
    "    elif (x >= 15) and (x<18):\n",
    "        return 'nachmittags'\n",
    "    else:\n",
    "        return 'abends'\n",
    "    \n",
    "\n",
    "df_offers['hourcat'] = df_offers['Transaction Date'].map(lambda x: getHourCat(int(x.strftime('%H'))))\n",
    "df_offers.groupby('hourcat').count().sort_values('Item ID',ascending=False).plot.pie('Item ID',title='Tageszeit der Käufe', figsize=(4,4), autopct='%1.1f%%', legend = False)"
   ]
  },
  {
   "cell_type": "code",
   "execution_count": null,
   "metadata": {},
   "outputs": [],
   "source": []
  }
 ],
 "metadata": {
  "kernelspec": {
   "display_name": "Python 3",
   "language": "python",
   "name": "python3"
  },
  "language_info": {
   "codemirror_mode": {
    "name": "ipython",
    "version": 3
   },
   "file_extension": ".py",
   "mimetype": "text/x-python",
   "name": "python",
   "nbconvert_exporter": "python",
   "pygments_lexer": "ipython3",
   "version": "3.6.7"
  }
 },
 "nbformat": 4,
 "nbformat_minor": 1
}
