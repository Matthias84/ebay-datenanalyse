{
 "cells": [
  {
   "cell_type": "code",
   "execution_count": null,
   "metadata": {},
   "outputs": [],
   "source": [
    "import pandas as pd\n",
    "from matplotlib.pyplot import pie, axis, show\n",
    "\n",
    "df_browser = pd.read_csv(\"browsingverlauf.csv\", encoding=\"Windows-1252\")\n",
    "#df_browser = df_browser.replace(r'\\r','', regex=True) #Zeilenumbrüche entfernen, aber im Header bleiben die erhalten!\n",
    "# Zeitreihen erkennen\n",
    "df_browser[\"EVENT_TIMESTAMP\"] = pd.to_datetime(df_browser[\"EVENT_TIMESTAMP\"])\n",
    "df_browser\n",
    "#IPs"
   ]
  },
  {
   "cell_type": "code",
   "execution_count": null,
   "metadata": {},
   "outputs": [],
   "source": [
    "#Zeit\n",
    "df_time = df_browser\n",
    "df_time.index = df_time['EVENT_TIMESTAMP']\n",
    "df_time['PAGE_NAME'].resample('M').count().plot(title='Aktivitäten auf ebay.de')"
   ]
  },
  {
   "cell_type": "code",
   "execution_count": null,
   "metadata": {},
   "outputs": [],
   "source": [
    "#IPs\n",
    "from geolite2 import geolite2\n",
    "\n",
    "reader = geolite2.reader()\n",
    "def getLocation(x):\n",
    "    #möglichst genaue Ortung erhalten\n",
    "    look = reader.get(x)\n",
    "    if 'city' in look:\n",
    "            return look['city']['names']['en']\n",
    "    else:\n",
    "        if 'subdivisions' in look:\n",
    "            return look['subdivisions'][0]['iso_code']\n",
    "        else:\n",
    "            return look['country']['iso_code']\n",
    "    \n",
    "\n",
    "df_ips = df_browser[['IP','SESSION_SKEY']].copy()\n",
    "#df_ips=df_ips.groupby(['IP']).count()\n",
    "df_ips = df_ips.drop_duplicates()\n",
    "df_ips['Ort'] = df_ips['IP'].map(lambda x: getLocation(x))\n",
    "df_ips['Ort'].unique()"
   ]
  },
  {
   "cell_type": "code",
   "execution_count": null,
   "metadata": {},
   "outputs": [],
   "source": []
  }
 ],
 "metadata": {
  "kernelspec": {
   "display_name": "Python 3",
   "language": "python",
   "name": "python3"
  },
  "language_info": {
   "codemirror_mode": {
    "name": "ipython",
    "version": 3
   },
   "file_extension": ".py",
   "mimetype": "text/x-python",
   "name": "python",
   "nbconvert_exporter": "python",
   "pygments_lexer": "ipython3",
   "version": "3.6.7"
  }
 },
 "nbformat": 4,
 "nbformat_minor": 2
}
